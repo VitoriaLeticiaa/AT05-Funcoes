{
  "nbformat": 4,
  "nbformat_minor": 0,
  "metadata": {
    "colab": {
      "provenance": [],
      "authorship_tag": "ABX9TyN+j0aIjV+70llowgBOxBFc",
      "include_colab_link": true
    },
    "kernelspec": {
      "name": "python3",
      "display_name": "Python 3"
    },
    "language_info": {
      "name": "python"
    }
  },
  "cells": [
    {
      "cell_type": "markdown",
      "metadata": {
        "id": "view-in-github",
        "colab_type": "text"
      },
      "source": [
        "<a href=\"https://colab.research.google.com/github/VitoriaLeticiaa/AT05-Funcoes/blob/main/Atividade.ipynb\" target=\"_parent\"><img src=\"https://colab.research.google.com/assets/colab-badge.svg\" alt=\"Open In Colab\"/></a>"
      ]
    },
    {
      "cell_type": "code",
      "source": [
        "def calcula_imc(peso=70, altura=1.75):\n",
        "    return peso / (altura ** 2)\n",
        "\n",
        "print(\"IMC calculado:\", round(calcula_imc(), 2))"
      ],
      "metadata": {
        "colab": {
          "base_uri": "https://localhost:8080/"
        },
        "id": "2UUOkaPQnOwI",
        "outputId": "506e217b-f8b9-4816-e253-44916d66b042"
      },
      "execution_count": 10,
      "outputs": [
        {
          "output_type": "stream",
          "name": "stdout",
          "text": [
            "IMC calculado: 22.86\n"
          ]
        }
      ]
    },
    {
      "cell_type": "code",
      "source": [
        "alturas = [45, 23, 67, 12, 11, 89, 23, 41, 50, 62, 78, 34, 56, 19, 72, 88, 11, 90, 39, 65,\n",
        "           76, 27, 48, 59, 81, 14, 11, 93, 3, 68, 29, 52, 74, 16, 85, 20, 55, 38, 69, 11,\n",
        "           83, 7, 44, 61, 18, 96, 22, 58, 31, 71, 40, 53, 87, 31]\n",
        "\n",
        "print('Maior valor:', max(alturas))\n",
        "print('Menor valor:', min(alturas))\n",
        "print('Soma de todos os valores:', sum(alturas))\n",
        "print('Valor absoluto de -25:', abs(-25))\n",
        "print('Arredondamento de 3.14159 para 2 casas decimais:', round(3.14159, 2))"
      ],
      "metadata": {
        "colab": {
          "base_uri": "https://localhost:8080/"
        },
        "id": "dkzy6V5hoU4N",
        "outputId": "3b34cdc1-5238-4006-9d33-b463e991efb6"
      },
      "execution_count": 13,
      "outputs": [
        {
          "output_type": "stream",
          "name": "stdout",
          "text": [
            "Maior valor: 96\n",
            "Menor valor: 3\n",
            "Soma de todos os valores: 2606\n",
            "Valor absoluto de -25: 25\n",
            "Arredondamento de 3.14159 para 2 casas decimais: 3.14\n"
          ]
        }
      ]
    },
    {
      "cell_type": "code",
      "source": [
        "from statistics import mean, median, mode, variance, stdev\n",
        "\n",
        "print('Média:', mean(alturas))\n",
        "print('Mediana:', median(alturas))\n",
        "print('Moda:', mode(alturas))\n",
        "print('Variância da amostra:', variance(alturas))\n",
        "print('Desvio padrão da amostra:', stdev(alturas))"
      ],
      "metadata": {
        "colab": {
          "base_uri": "https://localhost:8080/"
        },
        "id": "XKcb3NB0okIx",
        "outputId": "25a87b88-15ed-4044-a207-b6acdc1e6a72"
      },
      "execution_count": 14,
      "outputs": [
        {
          "output_type": "stream",
          "name": "stdout",
          "text": [
            "Média: 48.25925925925926\n",
            "Mediana: 49.0\n",
            "Moda: 11\n",
            "Variância da amostra: 741.1013277428372\n",
            "Desvio padrão da amostra: 27.223176297831913\n"
          ]
        }
      ]
    },
    {
      "cell_type": "code",
      "source": [
        "from numpy import random\n",
        "\n",
        "matriz_float = random.random((5, 10))\n",
        "print(\"Matriz 5x10 (float entre 0 e 1):\\n\", matriz_float)\n"
      ],
      "metadata": {
        "colab": {
          "base_uri": "https://localhost:8080/"
        },
        "id": "nrlemJC5olL5",
        "outputId": "a1302054-d635-4423-84f6-cee86326f66c"
      },
      "execution_count": 15,
      "outputs": [
        {
          "output_type": "stream",
          "name": "stdout",
          "text": [
            "Matriz 5x10 (float entre 0 e 1):\n",
            " [[0.50155149 0.42520159 0.36527369 0.18937284 0.17574838 0.90260703\n",
            "  0.3672591  0.60355213 0.6604602  0.30947079]\n",
            " [0.30005243 0.43706869 0.42293139 0.47912788 0.47610414 0.49063426\n",
            "  0.76305083 0.18984888 0.54423423 0.86236864]\n",
            " [0.01673155 0.45502716 0.46111717 0.26581192 0.76523318 0.79955912\n",
            "  0.64880905 0.64498336 0.27704981 0.18168291]\n",
            " [0.61778674 0.9252857  0.21483183 0.64149355 0.40788977 0.94873158\n",
            "  0.5015579  0.75040459 0.50252267 0.33249522]\n",
            " [0.20666567 0.26699201 0.27539339 0.13064389 0.78637598 0.19794846\n",
            "  0.4523029  0.73328068 0.52779075 0.88568555]]\n"
          ]
        }
      ]
    },
    {
      "cell_type": "code",
      "source": [
        "matriz_int = random.randint(0, 10, size=(8, 4))\n",
        "print(\"Matriz 8x4 (inteiros entre 0 e 9):\\n\", matriz_int)"
      ],
      "metadata": {
        "colab": {
          "base_uri": "https://localhost:8080/"
        },
        "id": "0_ik-EEtowxp",
        "outputId": "4387b13e-bb23-4d97-ce46-fbad9158f07d"
      },
      "execution_count": 16,
      "outputs": [
        {
          "output_type": "stream",
          "name": "stdout",
          "text": [
            "Matriz 8x4 (inteiros entre 0 e 9):\n",
            " [[1 6 4 0]\n",
            " [0 5 0 3]\n",
            " [9 3 5 7]\n",
            " [2 6 7 3]\n",
            " [0 1 6 7]\n",
            " [5 2 9 6]\n",
            " [3 6 9 3]\n",
            " [8 8 1 8]]\n"
          ]
        }
      ]
    },
    {
      "cell_type": "code",
      "source": [],
      "metadata": {
        "id": "-QpyiBvfox3_"
      },
      "execution_count": null,
      "outputs": []
    }
  ]
}